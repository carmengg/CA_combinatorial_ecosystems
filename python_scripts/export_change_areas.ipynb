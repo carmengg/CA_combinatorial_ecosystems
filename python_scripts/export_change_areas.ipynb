{
 "cells": [
  {
   "cell_type": "markdown",
   "id": "37004fbc-7a0b-4e88-a32e-b6fcc6a2e427",
   "metadata": {},
   "source": [
    "## WORKFLOW --- EXPORT ALL POLYGONS"
   ]
  },
  {
   "cell_type": "code",
   "execution_count": 1,
   "id": "c2ce108c-7082-465c-8f78-8dce6ea49722",
   "metadata": {},
   "outputs": [],
   "source": [
    "import numpy as np\n",
    "import matplotlib as mpl\n",
    "import matplotlib.pyplot as plt\n",
    "\n",
    "# to work with rasters\n",
    "# https://rasterio.readthedocs.io/en/latest/quickstart.html#opening-a-dataset-in-reading-mode\n",
    "import rasterio\n",
    "from rasterio.plot import show\n",
    "from rasterio.features import shapes\n",
    "\n",
    "from shapely.geometry import Polygon\n",
    "from shapely.affinity  import affine_transform\n",
    "import geopandas as gpd"
   ]
  },
  {
   "cell_type": "code",
   "execution_count": 2,
   "id": "1a390a45-cfcb-48ce-b9c9-49b6f3425814",
   "metadata": {},
   "outputs": [],
   "source": [
    "### ***** FUNCTIONS TO THICKEN PIXELS *****\n",
    "\n",
    "# ------------------------------------------------------------------\n",
    "\n",
    "def thicken_pixel(raster, i_cent,j_cent, d):\n",
    "    \n",
    "    i_0 = int(i_cent - ((d-1)/2))\n",
    "    j_0 = int(j_cent - ((d-1)/2))\n",
    "\n",
    "    for x in range(i_0,i_0+d):\n",
    "        for y in range(j_0,j_0+d):\n",
    "            if(-1<x<raster.shape[0] and -1<y<raster.shape[1]):\n",
    "                if(raster[x,y] != 1):\n",
    "                    raster[x,y] = 1\n",
    "    return \n",
    "# ------------------------------------------------------------------\n",
    "\n",
    "def thicken_pixels(raster,d):\n",
    "    m = raster.shape[0]\n",
    "    n = raster.shape[1]\n",
    "    \n",
    "    new_rast = np.zeros((m,n))\n",
    "    \n",
    "    for i in range(0,m):\n",
    "        for j in range(0,n):\n",
    "            if(raster[i,j] == 1):\n",
    "                thicken_pixel(new_rast,i,j,d)\n",
    "                \n",
    "    return new_rast"
   ]
  },
  {
   "cell_type": "code",
   "execution_count": 6,
   "id": "b33ee5a3-1200-4bee-a001-9064754d6a99",
   "metadata": {},
   "outputs": [],
   "source": [
    "# *** EXTRACT POLYGONS FROM REGIONS ***\n",
    "\n",
    "# ------------------------------------------------------------------\n",
    "\n",
    "# shape is a single JSON-ish polygon coming from shapes function\n",
    "#({'type': 'Polygon', 'coordinates': [[(6.0, 0.0), (6.0, 2.0), (8.0, 2.0), (8.0, 0.0), (6.0, 0.0)]]}, 1.0)\n",
    "# def create_polygon(shape):\n",
    "    \n",
    "#     poly_list = shape.get('coordinates')\n",
    "\n",
    "#     if len(poly_list) == 1:    # polygon without holes\n",
    "#         return(Polygon(poly_list[0]))\n",
    "\n",
    "#     holes = []\n",
    "#     for i in range(1,len(poly_list)):\n",
    "#         holes.append(poly_list[i])\n",
    "#     return(Polygon(shell=poly_list[0], holes=holes))\n",
    "\n",
    "# # ------------------------------------------------------------------\n",
    "# # shapes list is output from rasterio.features.shapes \n",
    "# # obtain crs and affine transf from raster\n",
    "# def shapes_2_gpddf(shapes_list, raster):\n",
    "    \n",
    "#     coords = []\n",
    "#     for shape, value in shapes_list:\n",
    "#         coords.append(shape)\n",
    "    \n",
    "#     polys = []\n",
    "#     for i in range(0,len(coords)):\n",
    "#         polys.append(create_polygon(coords[i]))\n",
    "        \n",
    "#     aff_trans = [raster.transform[0], raster.transform[1], raster.transform[3], \n",
    "#                  raster.transform[4], raster.transform[2], raster.transform[5]]\n",
    "#     aff_data = gpd.GeoDataFrame()\n",
    "    \n",
    "#     for i in range(0,len(polys)):  # **** CHECK WHAT HAPPENS WITH LAST POLYGON ****\n",
    "#         aff_data.loc[i,'geometry'] = affine_transform(polys[i],aff_trans)\n",
    "    \n",
    "#     aff_data.crs = raster.crs\n",
    "    \n",
    "#     return(aff_data)\n",
    "    "
   ]
  },
  {
   "cell_type": "code",
   "execution_count": 6,
   "id": "67875808-bd38-408b-ba96-a18233fe1a92",
   "metadata": {},
   "outputs": [],
   "source": [
    "# *** EXTRACT POLYGONS FROM REGIONS ***\n",
    "\n",
    "# ------------------------------------------------------------------\n",
    "\n",
    "# shape is a single JSON-ish polygon coming from shapes function\n",
    "#({'type': 'Polygon', 'coordinates': [[(6.0, 0.0), (6.0, 2.0), (8.0, 2.0), (8.0, 0.0), (6.0, 0.0)]]}, 1.0)\n",
    "def create_polygon(shape):\n",
    "    \n",
    "    poly_list = shape.get('coordinates')\n",
    "\n",
    "    if len(poly_list) == 1:    # polygon without holes\n",
    "        return(Polygon(poly_list[0]))\n",
    "\n",
    "    holes = []\n",
    "    for i in range(1,len(poly_list)):\n",
    "        holes.append(poly_list[i])\n",
    "    return Polygon(shell=poly_list[0], holes=holes)\n",
    "\n",
    "# ------------------------------------------------------------------\n",
    "# shapes list is output from rasterio.features.shapes \n",
    "# obtain crs and affine transf from raster\n",
    "def shapes_2_gpddf(shapes_list, crs = False):\n",
    "    \n",
    "#     if( ((crs and affine) == True) and (raster == False)):\n",
    "#         raise Excepetion()\n",
    "    \n",
    "    polys = []\n",
    "    for shape, value in shapes_list:\n",
    "        polys.append(create_polygon(shape))\n",
    "    \n",
    "    aff_trans = [raster.transform[0], raster.transform[1], raster.transform[3], \n",
    "                 raster.transform[4], raster.transform[2], raster.transform[5]]\n",
    "    aff_data = gpd.GeoDataFrame()\n",
    "    \n",
    "    for i in range(0,len(polys)): \n",
    "        aff_data.loc[i,'geometry'] = affine_transform(polys[i],aff_trans)\n",
    "    \n",
    "    aff_data.crs = raster.crs\n",
    "    \n",
    "    return aff_data\n",
    "    "
   ]
  },
  {
   "cell_type": "markdown",
   "id": "9f8c1103-ccfe-451c-8a43-e267514d28d6",
   "metadata": {},
   "source": [
    "## EXMAPLE"
   ]
  },
  {
   "cell_type": "code",
   "execution_count": 3,
   "id": "dde62b99-1503-4364-b9d5-316a5efd5af4",
   "metadata": {},
   "outputs": [
    {
     "data": {
      "image/png": "[encoded data removed]",
      "text/plain": [
       "<Figure size 432x288 with 1 Axes>"
      ]
     },
     "metadata": {
      "needs_background": "light"
     },
     "output_type": "display_data"
    },
    {
     "data": {
      "image/png": "[encoded data removed]",
      "text/plain": [
       "<Figure size 432x288 with 1 Axes>"
      ]
     },
     "metadata": {
      "needs_background": "light"
     },
     "output_type": "display_data"
    },
    {
     "data": {
      "text/plain": [
       "<AxesSubplot:>"
      ]
     },
     "execution_count": 3,
     "metadata": {},
     "output_type": "execute_result"
    }
   ],
   "source": [
    "arid8 = rasterio.open('arid_regions_2008.tif')\n",
    "arid19 = rasterio.open('arid_regions_2019.tif')\n",
    "\n",
    "#show(arid8)\n",
    "#show(arid19)"
   ]
  },
  {
   "cell_type": "code",
   "execution_count": 4,
   "id": "311e4afc-678c-4197-aeda-2f63d640c1ec",
   "metadata": {},
   "outputs": [
    {
     "data": {
      "image/png": "[encoded data removed]",
      "text/plain": [
       "<Figure size 432x288 with 1 Axes>"
      ]
     },
     "metadata": {
      "needs_background": "light"
     },
     "output_type": "display_data"
    },
    {
     "data": {
      "text/plain": [
       "<AxesSubplot:>"
      ]
     },
     "execution_count": 4,
     "metadata": {},
     "output_type": "execute_result"
    }
   ],
   "source": [
    "# desert = 1\n",
    "# dry = 2\n",
    "# moist = 3\n",
    "\n",
    "more_arid = arid8.read(1) -  arid19.read(1)\n",
    "more_arid = np.where(more_arid<1,0,more_arid) \n",
    "more_arid = np.where(more_arid>0,1,more_arid)\n",
    "show(more_arid)"
   ]
  },
  {
   "cell_type": "code",
   "execution_count": 5,
   "id": "e2396fd6-5057-4899-99bd-c9b574102cf7",
   "metadata": {},
   "outputs": [
    {
     "data": {
      "image/png": "[encoded data removed]",
      "text/plain": [
       "<Figure size 432x288 with 1 Axes>"
      ]
     },
     "metadata": {
      "needs_background": "light"
     },
     "output_type": "display_data"
    },
    {
     "data": {
      "text/plain": [
       "<AxesSubplot:>"
      ]
     },
     "execution_count": 5,
     "metadata": {},
     "output_type": "execute_result"
    }
   ],
   "source": [
    "thick_regions = thicken_pixels(more_arid,2)\n",
    "# shapes function only takes certain int types (see documentation)\n",
    "# since raster is binary, we're using the smalest type\n",
    "thick_regions = thick_regions.astype('unit8')  \n",
    "show(thick_regions)"
   ]
  },
  {
   "cell_type": "code",
   "execution_count": 18,
   "id": "0410bde5-fd26-4d91-8470-cfd0858626ca",
   "metadata": {},
   "outputs": [],
   "source": [
    "thick_shps = shapes(thick_regions, connectivity = 8)\n",
    "aff_data = shapes_2_gpddf(thick_shps , arid8)\n",
    "#aff_data"
   ]
  },
  {
   "cell_type": "code",
   "execution_count": 19,
   "id": "63b2f0a9-1b71-4ff6-9f5b-554babefcdc3",
   "metadata": {},
   "outputs": [],
   "source": [
    "# Create an output path for the data\n",
    "outfp = \"/home/jovyan/outlining_regions/trial_polygons2.shp\"\n",
    "aff_data.to_file(outfp)"
   ]
  },
  {
   "cell_type": "code",
   "execution_count": 11,
   "id": "8c1a8559-b142-4aec-af61-ca1916d6dc45",
   "metadata": {},
   "outputs": [
    {
     "data": {
      "image/svg+xml": [
       "<svg xmlns=\"http://www.w3.org/2000/svg\" xmlns:xlink=\"http://www.w3.org/1999/xlink\" width=\"100.0\" height=\"100.0\" viewBox=\"-116.59053331556056 32.53514882409818 2.3050105436753228 2.430011115388055\" preserveAspectRatio=\"xMinYMin meet\"><g transform=\"matrix(1,0,0,-1,0,67.50030876358441)\"><path fill-rule=\"evenodd\" fill=\"#66cc99\" stroke=\"#555555\" stroke-width=\"0.0486002223077611\" opacity=\"0.6\" d=\"M -116.50053290387953,34.875159527805195 L -115.87553004496387,34.875159527805195 L -115.87553004496387,34.75015895602598 L -115.6255289013976,34.75015895602598 L -115.6255289013976,34.500157812467535 L -115.50052832961447,34.500157812467535 L -115.50052832961447,34.25015666890909 L -115.37552775783134,34.25015666890909 L -115.37552775783134,34.500157812467535 L -115.00052604248194,34.500157812467535 L -115.00052604248194,34.25015666890909 L -114.8755254706988,34.25015666890909 L -114.8755254706988,34.00015552535065 L -115.00052604248194,34.00015552535065 L -115.00052604248194,33.87515495357143 L -115.12552661426507,33.87515495357143 L -115.12552661426507,33.75015438179221 L -114.75052489891567,33.75015438179221 L -114.75052489891567,33.62515381001299 L -114.62552432713254,33.62515381001299 L -114.62552432713254,33.25015209467533 L -114.5005237553494,33.25015209467533 L -114.5005237553494,33.125151522896104 L -114.37552318356627,33.125151522896104 L -114.37552318356627,32.750149807558444 L -114.62552432713254,32.750149807558444 L -114.62552432713254,32.87515037933766 L -114.75052489891567,32.87515037933766 L -114.75052489891567,32.750149807558444 L -115.00052604248194,32.750149807558444 L -115.00052604248194,32.62514923577922 L -115.37552775783134,32.62514923577922 L -115.37552775783134,32.750149807558444 L -115.50052832961447,32.750149807558444 L -115.50052832961447,32.87515037933766 L -115.6255289013976,32.87515037933766 L -115.6255289013976,33.25015209467533 L -115.75052947318073,33.25015209467533 L -115.75052947318073,33.37515266645455 L -116.000530616747,33.37515266645455 L -116.000530616747,33.25015209467533 L -116.25053176031327,33.25015209467533 L -116.25053176031327,33.62515381001299 L -116.50053290387953,33.62515381001299 L -116.50053290387953,33.87515495357143 L -116.12553118853013,33.87515495357143 L -116.12553118853013,33.75015438179221 L -116.000530616747,33.75015438179221 L -116.000530616747,34.25015666890909 L -116.12553118853013,34.25015666890909 L -116.12553118853013,34.125156097129874 L -116.37553233209638,34.125156097129874 L -116.37553233209638,34.500157812467535 L -116.25053176031327,34.500157812467535 L -116.25053176031327,34.62515838424675 L -116.50053290387953,34.62515838424675 L -116.50053290387953,34.875159527805195 z M -115.75052947318073,33.87515495357143 L -115.75052947318073,33.75015438179221 L -115.87553004496387,33.75015438179221 L -115.87553004496387,33.62515381001299 L -115.6255289013976,33.62515381001299 L -115.6255289013976,33.500153238233764 L -115.37552775783134,33.500153238233764 L -115.37552775783134,33.62515381001299 L -115.50052832961447,33.62515381001299 L -115.50052832961447,33.75015438179221 L -115.6255289013976,33.75015438179221 L -115.6255289013976,33.87515495357143 L -115.75052947318073,33.87515495357143 z\" /></g></svg>"
      ],
      "text/plain": [
       "<shapely.geometry.polygon.Polygon at 0x7f4025116c40>"
      ]
     },
     "execution_count": 11,
     "metadata": {},
     "output_type": "execute_result"
    }
   ],
   "source": [
    "\n",
    "aff_data.loc[22,'geometry']"
   ]
  },
  {
   "cell_type": "code",
   "execution_count": null,
   "id": "e7dc59fc-2d10-4a7f-9159-04fb34f57cfb",
   "metadata": {},
   "outputs": [],
   "source": []
  },
  {
   "cell_type": "code",
   "execution_count": null,
   "id": "48c242f0-4dbf-4fb4-8a15-582f23b77ac9",
   "metadata": {},
   "outputs": [],
   "source": [
    "# no hole polygon\n",
    "geoms[0].get('coordinates')\n",
    "\n",
    "# polygon with a hole\n",
    "geoms[22].get('coordinates')"
   ]
  },
  {
   "cell_type": "code",
   "execution_count": 16,
   "id": "77791616-d2e3-4161-9ad1-b4065a4a8033",
   "metadata": {},
   "outputs": [],
   "source": [
    "new = gpd.GeoDataFrame()\n",
    "new.loc[0,'geometry']= aff_data.loc[22,'geometry']\n",
    "new.crs = arid8.crs"
   ]
  },
  {
   "cell_type": "code",
   "execution_count": 17,
   "id": "396ce546-f87e-41b0-812a-b2662a35c796",
   "metadata": {},
   "outputs": [],
   "source": [
    "outfp = \"/home/jovyan/outlining_regions/trial_polygons.shp\"\n",
    "new.to_file(outfp)"
   ]
  },
  {
   "cell_type": "code",
   "execution_count": null,
   "id": "d83320e2-9d56-47e2-9b31-0454cf5ef72b",
   "metadata": {},
   "outputs": [],
   "source": []
  }
 ],
 "metadata": {
  "kernelspec": {
   "display_name": "Python 3 (ipykernel)",
   "language": "python",
   "name": "python3"
  },
  "language_info": {
   "codemirror_mode": {
    "name": "ipython",
    "version": 3
   },
   "file_extension": ".py",
   "mimetype": "text/x-python",
   "name": "python",
   "nbconvert_exporter": "python",
   "pygments_lexer": "ipython3",
   "version": "3.8.12"
  }
 },
 "nbformat": 4,
 "nbformat_minor": 5
}
