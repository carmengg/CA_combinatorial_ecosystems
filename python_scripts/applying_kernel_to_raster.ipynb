{
 "cells": [
  {
   "cell_type": "markdown",
   "id": "177996f5-c628-48b7-b6b3-e24b0aeb9a0c",
   "metadata": {},
   "source": [
    "# Applying convolution to raster\n",
    "In this notebook we show how to use a kernle to blur a raster and write the result. Read more about image processing with kernels here:\n",
    "https://en.wikipedia.org/wiki/Kernel_(image_processing)\n",
    "\n",
    "1. open the raster with `rasterio` and transform to np.array\n",
    "2. define and apply kernel using convolve in `ndimage` library\n",
    "3. write the tif file to disk using rasterio\n",
    "\n",
    "## READING AND PROCESSING RASTER"
   ]
  },
  {
   "cell_type": "code",
   "execution_count": 1,
   "id": "bd1888bf-cf31-4bb6-8394-f70c90e81bba",
   "metadata": {},
   "outputs": [],
   "source": [
    "import numpy as np\n",
    "import matplotlib as mpl\n",
    "import matplotlib.pyplot as plt"
   ]
  },
  {
   "cell_type": "code",
   "execution_count": 2,
   "id": "2879736c-4eb4-4134-93d2-583c6d8dc387",
   "metadata": {},
   "outputs": [],
   "source": [
    "# library that has convolution function\n",
    "from scipy import ndimage\n",
    "\n",
    "# to work with rasters\n",
    "# https://rasterio.readthedocs.io/en/latest/quickstart.html#opening-a-dataset-in-reading-mode\n",
    "import rasterio\n",
    "from rasterio.plot import show"
   ]
  },
  {
   "cell_type": "code",
   "execution_count": 3,
   "id": "16758ba8-9fa0-4245-ae49-0d30e2e50d14",
   "metadata": {},
   "outputs": [
    {
     "data": {
      "image/png": "[encoded data removed]",
      "text/plain": [
       "<Figure size 432x288 with 1 Axes>"
      ]
     },
     "metadata": {
      "needs_background": "light"
     },
     "output_type": "display_data"
    },
    {
     "data": {
      "text/plain": [
       "<AxesSubplot:>"
      ]
     },
     "execution_count": 3,
     "metadata": {},
     "output_type": "execute_result"
    }
   ],
   "source": [
    "# open and plot raster \n",
    "\n",
    "rast = rasterio.open('sb_moist_2_dry.tif')\n",
    "rasterio.plot.show(rast)\n",
    "\n",
    "# this is pointing at the open file, not actually the file"
   ]
  },
  {
   "cell_type": "code",
   "execution_count": 4,
   "id": "31530ad9-f303-47e7-a2a2-13e0e85bb2aa",
   "metadata": {},
   "outputs": [
    {
     "name": "stdout",
     "output_type": "stream",
     "text": [
      "[[-3.4e+38 -3.4e+38 -3.4e+38 ... -3.4e+38 -3.4e+38 -3.4e+38]\n",
      " [-3.4e+38 -3.4e+38 -3.4e+38 ... -3.4e+38 -3.4e+38 -3.4e+38]\n",
      " [-3.4e+38 -3.4e+38 -3.4e+38 ... -3.4e+38 -3.4e+38 -3.4e+38]\n",
      " ...\n",
      " [-3.4e+38 -3.4e+38 -3.4e+38 ... -3.4e+38 -3.4e+38 -3.4e+38]\n",
      " [-3.4e+38 -3.4e+38 -3.4e+38 ... -3.4e+38 -3.4e+38 -3.4e+38]\n",
      " [-3.4e+38 -3.4e+38 -3.4e+38 ... -3.4e+38 -3.4e+38 -3.4e+38]]\n"
     ]
    }
   ],
   "source": [
    "#actually read the band and transfrom to np array\n",
    "img = np.array(rast.read(1))  \n",
    "print(img)"
   ]
  },
  {
   "cell_type": "code",
   "execution_count": 5,
   "id": "43d7160f-20ad-4d0b-a178-1830ee28b7ff",
   "metadata": {},
   "outputs": [
    {
     "name": "stdout",
     "output_type": "stream",
     "text": [
      "[[0. 0. 0. ... 0. 0. 0.]\n",
      " [0. 0. 0. ... 0. 0. 0.]\n",
      " [0. 0. 0. ... 0. 0. 0.]\n",
      " ...\n",
      " [0. 0. 0. ... 0. 0. 0.]\n",
      " [0. 0. 0. ... 0. 0. 0.]\n",
      " [0. 0. 0. ... 0. 0. 0.]]\n"
     ]
    }
   ],
   "source": [
    "# change values of raster cells to be 0 and 1\n",
    "img2 = np.where( img<0, 0, img)\n",
    "img2 = np.where( img2>0, 1, img2)\n",
    "print(img2)\n",
    "# help(np.where)"
   ]
  },
  {
   "cell_type": "code",
   "execution_count": 6,
   "id": "bc693d46-9660-47cc-b1a3-31930a01d130",
   "metadata": {},
   "outputs": [
    {
     "data": {
      "text/plain": [
       "<matplotlib.image.AxesImage at 0x7fd6bf316b50>"
      ]
     },
     "execution_count": 6,
     "metadata": {},
     "output_type": "execute_result"
    },
    {
     "data": {
      "image/png": "[encoded data removed]",
      "text/plain": [
       "<Figure size 432x288 with 1 Axes>"
      ]
     },
     "metadata": {
      "needs_background": "light"
     },
     "output_type": "display_data"
    }
   ],
   "source": [
    "plt.imshow(img2)"
   ]
  },
  {
   "cell_type": "markdown",
   "id": "780b7571-e0a3-4552-a455-40462c4694c0",
   "metadata": {},
   "source": [
    "## IMAGE CONVOLUTION\n",
    "\n",
    "Reference to `scipy.ndimage.convolve`, in particular check the different ways you can deal with convolving the cells at the boundary. \n",
    "https://docs.scipy.org/doc/scipy/reference/generated/scipy.ndimage.convolve.html"
   ]
  },
  {
   "cell_type": "code",
   "execution_count": 8,
   "id": "89e43721-d93f-4897-9b1e-afc160b08861",
   "metadata": {},
   "outputs": [
    {
     "data": {
      "text/plain": [
       "<matplotlib.image.AxesImage at 0x7fd6a8f7ce20>"
      ]
     },
     "execution_count": 8,
     "metadata": {},
     "output_type": "execute_result"
    },
    {
     "data": {
      "image/png": "[encoded data removed]",
      "text/plain": [
       "<Figure size 432x288 with 1 Axes>"
      ]
     },
     "metadata": {
      "needs_background": "light"
     },
     "output_type": "display_data"
    }
   ],
   "source": [
    "# define kernel\n",
    "k = np.array([[1,1,1],\n",
    "              [1,1,1],\n",
    "              [1,1,1]])/9\n",
    "\n",
    "k_image = ndimage.convolve(img2, k, mode='constant', cval=0.0)\n",
    "plt.imshow(k_image)"
   ]
  },
  {
   "cell_type": "code",
   "execution_count": 11,
   "id": "0953c52a-8e90-4715-b942-a0ae96b33a14",
   "metadata": {},
   "outputs": [
    {
     "name": "stdout",
     "output_type": "stream",
     "text": [
      "img2: [0. 1.]\n",
      "k_image [0.         0.11111111 0.22222222 0.33333334 0.44444445 0.5555556\n",
      " 0.6666667  0.7777778  0.8888889  1.        ]\n"
     ]
    }
   ],
   "source": [
    "print('img2:', np.unique(img2))\n",
    "print('k_image', np.unique(k_image))"
   ]
  },
  {
   "cell_type": "markdown",
   "id": "97a3ea68-9717-4884-a66a-bc209dc8cd49",
   "metadata": {},
   "source": [
    "## SHORTCUT"
   ]
  },
  {
   "cell_type": "code",
   "execution_count": 13,
   "id": "762892b1-b309-4043-a9de-c20402cb3a16",
   "metadata": {},
   "outputs": [
    {
     "name": "stdout",
     "output_type": "stream",
     "text": [
      "test [-3.4000000e+38 -3.0222222e+38 -2.6444445e+38 -2.2666666e+38\n",
      " -1.8888888e+38 -1.5111111e+38 -1.1333333e+38 -7.5555556e+37\n",
      " -3.7777778e+37  6.0000000e+00]\n"
     ]
    },
    {
     "data": {
      "image/png": "[encoded data removed]",
      "text/plain": [
       "<Figure size 432x288 with 1 Axes>"
      ]
     },
     "metadata": {
      "needs_background": "light"
     },
     "output_type": "display_data"
    }
   ],
   "source": [
    "# you could also input the raster band directly, no need to convert to array\n",
    "# however, we did some pre-processing to get rid of those really negative values\n",
    "test = ndimage.convolve(rast.read(1), k, mode='constant', cval=0.0)\n",
    "plt.imshow(k_image)\n",
    "print('test', np.unique(test))"
   ]
  },
  {
   "cell_type": "markdown",
   "id": "4a877b02-3559-452b-b0e7-6f35f32301c6",
   "metadata": {},
   "source": [
    "## EXPORT RASTER"
   ]
  },
  {
   "cell_type": "code",
   "execution_count": 14,
   "id": "9f471e90-4c9b-47e0-9bd5-c0723e0fc3eb",
   "metadata": {},
   "outputs": [],
   "source": [
    "## EXPORT RASTER: np arary -> raster\n",
    "# https://rasterio.readthedocs.io/en/latest/quickstart.html#saving-raster-data\n",
    "\n",
    "new_dataset = rasterio.open(\n",
    "    './new.tif',    # file to be created\n",
    "    'w',               # write mode\n",
    "    driver='GTiff',    # name of the desired format driver\n",
    "    height=k_image.shape[0], # number of columns in dataset\n",
    "    width=k_image.shape[1],  # number of rows in dataset\n",
    "    count=1,           # count of dataset bands\n",
    "    dtype=k_image.dtype,     # data type of staset\n",
    "    crs= rast.crs,  # CRS identifier or description\n",
    "    transform=rast.transform,  # affine transformation matrix\n",
    ")\n",
    "\n",
    "# copy the grid to the opened dataset, call the new dataset’s write() method \n",
    "# with the grid and target band number as arguments.\n",
    "new_dataset.write(k_image, 1)\n",
    "\n",
    "# call the close() method to sync data to disk and finish.\n",
    "new_dataset.close()"
   ]
  },
  {
   "cell_type": "markdown",
   "id": "9ee9fa5b-8eab-4577-a108-1fa053ef7be2",
   "metadata": {},
   "source": [
    "Other references:\n",
    "\n",
    "https://stackoverflow.com/questions/6094957/high-pass-filter-for-image-processing-in-python-by-using-scipy-numpy\n",
    "\n",
    "https://gis.stackexchange.com/questions/373648/seeking-arcgis-focal-statistics-alternative-in-open-source-python\n",
    "\n",
    "https://desktop.arcgis.com/en/arcmap/10.3/manage-data/raster-and-images/convolution-function.htm\n"
   ]
  },
  {
   "cell_type": "code",
   "execution_count": null,
   "id": "5ed1197a-6094-40b6-a067-76794ce5e708",
   "metadata": {},
   "outputs": [],
   "source": [
    "# another way: open raster as image\n",
    "# https://stackoverflow.com/questions/51152059/pillow-in-python-wont-let-me-open-image-exceeds-limit\n",
    "#from PIL import Image\n",
    "\n",
    "\n",
    "#Image.MAX_IMAGE_PIXELS = None\n",
    "#im = Image.open('sb_moist_2_dry.tif')\n",
    "\n",
    "#im.show()"
   ]
  },
  {
   "cell_type": "code",
   "execution_count": null,
   "id": "2d111084-44bc-4f16-9509-cf710e1dc07b",
   "metadata": {},
   "outputs": [],
   "source": []
  }
 ],
 "metadata": {
  "kernelspec": {
   "display_name": "Python 3",
   "language": "python",
   "name": "python3"
  },
  "language_info": {
   "codemirror_mode": {
    "name": "ipython",
    "version": 3
   },
   "file_extension": ".py",
   "mimetype": "text/x-python",
   "name": "python",
   "nbconvert_exporter": "python",
   "pygments_lexer": "ipython3",
   "version": "3.8.8"
  }
 },
 "nbformat": 4,
 "nbformat_minor": 5
}
