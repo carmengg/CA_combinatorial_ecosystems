{
 "cells": [
  {
   "cell_type": "code",
   "execution_count": 1,
   "id": "dc5735d9-d88f-4e6f-ade8-ac924a20faeb",
   "metadata": {},
   "outputs": [],
   "source": [
    "import numpy as np\n",
    "import matplotlib as mpl\n",
    "import matplotlib.pyplot as plt\n",
    "\n",
    "# to work with rasters\n",
    "# https://rasterio.readthedocs.io/en/latest/quickstart.html#opening-a-dataset-in-reading-mode\n",
    "import rasterio\n",
    "from rasterio.plot import show\n",
    "from rasterio.features import shapes\n",
    "\n",
    "import pprint"
   ]
  },
  {
   "cell_type": "markdown",
   "id": "7a8a3471-ceaf-4587-ba0e-a37d369a3859",
   "metadata": {},
   "source": [
    "## SB moist_2_dry raster"
   ]
  },
  {
   "cell_type": "code",
   "execution_count": 2,
   "id": "2d09c096-6289-4640-881e-2a8379676bf6",
   "metadata": {},
   "outputs": [
    {
     "data": {
      "image/png": "[encoded data removed]",
      "text/plain": [
       "<Figure size 432x288 with 1 Axes>"
      ]
     },
     "metadata": {
      "needs_background": "light"
     },
     "output_type": "display_data"
    },
    {
     "data": {
      "text/plain": [
       "<AxesSubplot:>"
      ]
     },
     "execution_count": 2,
     "metadata": {},
     "output_type": "execute_result"
    }
   ],
   "source": [
    "# open and plot raster \n",
    "\n",
    "rast = rasterio.open('sb_moist_2_dry.tif')\n",
    "rasterio.plot.show(rast)"
   ]
  },
  {
   "cell_type": "code",
   "execution_count": 3,
   "id": "d21c4479-3481-420c-87b6-97ae53c40ab6",
   "metadata": {},
   "outputs": [
    {
     "data": {
      "text/plain": [
       "<matplotlib.image.AxesImage at 0x7f8f78866640>"
      ]
     },
     "execution_count": 3,
     "metadata": {},
     "output_type": "execute_result"
    },
    {
     "data": {
      "image/png": "[encoded data removed]",
      "text/plain": [
       "<Figure size 432x288 with 1 Axes>"
      ]
     },
     "metadata": {
      "needs_background": "light"
     },
     "output_type": "display_data"
    }
   ],
   "source": [
    "# processing as np.array\n",
    "img = np.array(rast.read(1))  \n",
    "img = np.where( img<0, 0, img)\n",
    "img = np.where( img>0, 1, img)\n",
    "\n",
    "plt.imshow(img)"
   ]
  },
  {
   "cell_type": "code",
   "execution_count": 10,
   "id": "3cd0f385-2d2b-4bf8-97c4-6994ff5825c5",
   "metadata": {},
   "outputs": [
    {
     "name": "stdout",
     "output_type": "stream",
     "text": [
      "<generator object shapes at 0x7f8f787d4970>\n"
     ]
    }
   ],
   "source": [
    "# choose connectivity = 8\n",
    "# https://samirkhanal35.medium.com/relationships-between-pixels-neighbours-and-connectivity-d38e473cd994\n",
    "shp = shapes(img, connectivity = 8)\n",
    "print(shp)"
   ]
  },
  {
   "cell_type": "code",
   "execution_count": 13,
   "id": "e9127e68-b5f9-4e70-910b-6ae412f6870d",
   "metadata": {},
   "outputs": [
    {
     "data": {
      "text/plain": [
       "0"
      ]
     },
     "execution_count": 13,
     "metadata": {},
     "output_type": "execute_result"
    }
   ],
   "source": [
    "k = 0\n",
    "for shape, value in shp:\n",
    "    k = k+1\n",
    "#    print(\"Image value:\")\n",
    "#    print(value)\n",
    "#    print(\"Geometry:\")\n",
    "#    pprint.pprint(shape)\n",
    "print('# polygons', k) # k = 10 "
   ]
  },
  {
   "cell_type": "markdown",
   "id": "cd34a037-8551-4595-b8ab-d779dbf89067",
   "metadata": {},
   "source": [
    "## SAMPLE CODE\n",
    "\n",
    "https://sgillies.net/2014/01/18/getting-shapes-of-raster-features-with-rasterio.html"
   ]
  },
  {
   "cell_type": "code",
   "execution_count": null,
   "id": "4d3f48fb-0b6f-4bc0-b34d-a3ea8988805f",
   "metadata": {},
   "outputs": [],
   "source": [
    "\n",
    "\n",
    "image = numpy.ones((12, 12), dtype=numpy.uint8)\n",
    "image[0:4,0:4] = 2\n",
    "image[4:6,0:2] = 5\n",
    "image\n",
    "\n",
    "#t = [101985.0, 300.0379266750948, 0.0,\n",
    "#     2826915.0, 0.0, -300.041782729805]\n",
    "for shape, value in rasterio.features.shapes(image):#, transform=t):\n",
    "    print(\"Image value:\")\n",
    "    print(value)\n",
    "    print(\"Geometry:\")\n",
    "    pprint.pprint(shape)"
   ]
  },
  {
   "cell_type": "code",
   "execution_count": 25,
   "id": "6dc82df5-909b-4a3a-920f-a2ae37644578",
   "metadata": {},
   "outputs": [
    {
     "name": "stdout",
     "output_type": "stream",
     "text": [
      "Help on function shapes in module rasterio.features:\n",
      "\n",
      "shapes(source, mask=None, connectivity=4, transform=Affine(1.0, 0.0, 0.0,\n",
      "       0.0, 1.0, 0.0))\n",
      "    Get shapes and values of connected regions in a dataset or array.\n",
      "    \n",
      "    Parameters\n",
      "    ----------\n",
      "    source : array, dataset object, Band, or tuple(dataset, bidx)\n",
      "        Data type must be one of rasterio.int16, rasterio.int32,\n",
      "        rasterio.uint8, rasterio.uint16, or rasterio.float32.\n",
      "    mask : numpy ndarray or rasterio Band object, optional\n",
      "        Must evaluate to bool (rasterio.bool_ or rasterio.uint8). Values\n",
      "        of False or 0 will be excluded from feature generation.  Note\n",
      "        well that this is the inverse sense from Numpy's, where a mask\n",
      "        value of True indicates invalid data in an array. If `source` is\n",
      "        a Numpy masked array and `mask` is None, the source's mask will\n",
      "        be inverted and used in place of `mask`.\n",
      "    connectivity : int, optional\n",
      "        Use 4 or 8 pixel connectivity for grouping pixels into features\n",
      "    transform : Affine transformation, optional\n",
      "        If not provided, feature coordinates will be generated based on\n",
      "        pixel coordinates\n",
      "    \n",
      "    Yields\n",
      "    -------\n",
      "    polygon, value\n",
      "        A pair of (polygon, value) for each feature found in the image.\n",
      "        Polygons are GeoJSON-like dicts and the values are the\n",
      "        associated value from the image, in the data type of the image.\n",
      "        Note: due to floating point precision issues, values returned\n",
      "        from a floating point image may not exactly match the original\n",
      "        values.\n",
      "    \n",
      "    Notes\n",
      "    -----\n",
      "    The amount of memory used by this algorithm is proportional to the\n",
      "    number and complexity of polygons produced.  This algorithm is most\n",
      "    appropriate for simple thematic data.  Data with high pixel-to-pixel\n",
      "    variability, such as imagery, may produce one polygon per pixel and\n",
      "    consume large amounts of memory.\n",
      "    \n",
      "    Because the low-level implementation uses either an int32 or float32\n",
      "    buffer, uint32 and float64 data cannot be operated on without\n",
      "    truncation issues.\n",
      "\n"
     ]
    }
   ],
   "source": [
    "help(rasterio.features.shapes)"
   ]
  },
  {
   "cell_type": "markdown",
   "id": "fc5dffd9-aa30-4b24-9e13-632020487781",
   "metadata": {},
   "source": [
    "## CA subtropical_2_tropical RASTER\n",
    "\n"
   ]
  },
  {
   "cell_type": "code",
   "execution_count": 22,
   "id": "cb5108a9-b263-4273-9e64-07e12d154938",
   "metadata": {},
   "outputs": [],
   "source": [
    "ca_rast = rasterio.open('subtropical_2_tropical.tif')\n",
    "\n",
    "ca_img = np.array(ca_rast.read(1))  \n",
    "ca_img = np.where( ca_img<0, 0, ca_img)\n",
    "ca_img = np.where( ca_img>0, 1, ca_img)\n",
    "# has 2,998,608 non-zero pixels\n",
    "\n",
    "ca_shp = shapes(ca_img, connectivity = 8) # 26 shapes"
   ]
  },
  {
   "cell_type": "code",
   "execution_count": 23,
   "id": "36ec62dc-8448-4149-a7ad-1e5d9b80eef8",
   "metadata": {},
   "outputs": [
    {
     "data": {
      "text/plain": [
       "26"
      ]
     },
     "execution_count": 23,
     "metadata": {},
     "output_type": "execute_result"
    }
   ],
   "source": [
    "k = 0\n",
    "for shape, value in ca_shp:\n",
    "    k = k+1\n",
    "k"
   ]
  },
  {
   "cell_type": "code",
   "execution_count": null,
   "id": "01f4ebfb-b59f-4ae1-9528-9c2781986800",
   "metadata": {},
   "outputs": [],
   "source": []
  }
 ],
 "metadata": {
  "kernelspec": {
   "display_name": "Python 3",
   "language": "python",
   "name": "python3"
  },
  "language_info": {
   "codemirror_mode": {
    "name": "ipython",
    "version": 3
   },
   "file_extension": ".py",
   "mimetype": "text/x-python",
   "name": "python",
   "nbconvert_exporter": "python",
   "pygments_lexer": "ipython3",
   "version": "3.8.8"
  }
 },
 "nbformat": 4,
 "nbformat_minor": 5
}
