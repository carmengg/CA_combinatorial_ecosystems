{
 "cells": [
  {
   "cell_type": "code",
   "execution_count": 7,
   "metadata": {},
   "outputs": [],
   "source": [
    "import numpy as np\n",
    "import matplotlib as mpl\n",
    "import matplotlib.pyplot as plt\n",
    "\n",
    "# to work with rasters\n",
    "# https://rasterio.readthedocs.io/en/latest/quickstart.html#opening-a-dataset-in-reading-mode\n",
    "import rasterio as rio\n",
    "from rasterio.plot import show\n",
    "from rasterio.features import shapes\n",
    "\n",
    "import cv2\n",
    "\n",
    "from shapely.geometry import Polygon\n",
    "from shapely.affinity  import affine_transform\n",
    "import geopandas as gpd"
   ]
  },
  {
   "cell_type": "code",
   "execution_count": 2,
   "metadata": {},
   "outputs": [],
   "source": [
    "# *** EXTRACT POLYGONS FROM REGIONS ***\n",
    "\n",
    "# ------------------------------------------------------------------\n",
    "\n",
    "# shape is a single JSON-ish polygon coming from the rasterio.features.shapes function\n",
    "# rasterio.features.shapes returns a list of pairs (shape, value), example of a pair:\n",
    "#   ({'type': 'Polygon', 'coordinates': [[(6,0),(6,2),(8,0),(6,0)]]}, 1.0)\n",
    "#   shape is the first entry (the dictionary)\n",
    "def create_polygon(shape):\n",
    "    \n",
    "    poly_list = shape.get('coordinates')\n",
    "\n",
    "    if len(poly_list) == 1:    # polygon without holes\n",
    "        return(Polygon(poly_list[0]))\n",
    "\n",
    "    holes = []\n",
    "    for i in range(1,len(poly_list)):\n",
    "        holes.append(poly_list[i])\n",
    "    return Polygon(shell=poly_list[0], holes=holes)\n",
    "\n",
    "# ------------------------------------------------------------------\n",
    "\n",
    "# shapes list is the output from rasterio.features.shapes \n",
    "# crs will be assigned to the GeoDataFrame\n",
    "def shapes_2_GeoDataFrame(shapes_list, crs = False):\n",
    "\n",
    "    df = gpd.GeoDataFrame() \n",
    "    i = 0\n",
    "    for shape, value in shapes_list:\n",
    "        df.loc[i,'geometry'] =create_polygon(shape)\n",
    "        i = i+1\n",
    "\n",
    "    if(crs != False):\n",
    "        df.crs = crs\n",
    "    \n",
    "    return df\n",
    "    "
   ]
  },
  {
   "cell_type": "code",
   "execution_count": 5,
   "metadata": {},
   "outputs": [
    {
     "data": {
      "image/png": "[encoded data removed]",
      "text/plain": [
       "<Figure size 432x288 with 1 Axes>"
      ]
     },
     "metadata": {
      "needs_background": "light"
     },
     "output_type": "display_data"
    },
    {
     "data": {
      "text/plain": [
       "<matplotlib.axes._subplots.AxesSubplot at 0x7f56762a3760>"
      ]
     },
     "execution_count": 5,
     "metadata": {},
     "output_type": "execute_result"
    }
   ],
   "source": [
    "temp8 = rio.open('ca_clim_regions_2008.tif')\n",
    "temp19 = rio.open('ca_clim_regions_2019.tif')\n",
    "\n",
    "hotter = temp19.read(1) -  temp8.read(1)\n",
    "hotter = np.where(hotter>0,1,hotter)\n",
    "hotter = np.where(hotter<1,0,hotter) \n",
    "\n",
    "show(hotter)"
   ]
  },
  {
   "cell_type": "code",
   "execution_count": null,
   "metadata": {},
   "outputs": [],
   "source": [
    "# for i in range(2,10):\n",
    "#     print(i)\n",
    "#     show(cv2.dilate(hotter, np.ones((i,i), np.uint8), iterations=1))"
   ]
  },
  {
   "cell_type": "code",
   "execution_count": 10,
   "metadata": {},
   "outputs": [
    {
     "data": {
      "image/png": "[encoded data removed]",
      "text/plain": [
       "<Figure size 432x288 with 1 Axes>"
      ]
     },
     "metadata": {
      "needs_background": "light"
     },
     "output_type": "display_data"
    },
    {
     "data": {
      "text/plain": [
       "<matplotlib.axes._subplots.AxesSubplot at 0x7f5669618850>"
      ]
     },
     "execution_count": 10,
     "metadata": {},
     "output_type": "execute_result"
    }
   ],
   "source": [
    "thick_regions = cv2.dilate(hotter, np.ones((3,3), np.uint8), iterations=1)\n",
    "thick_regions = thick_regions.astype('uint8')  \n",
    "show(thick_regions)"
   ]
  },
  {
   "cell_type": "code",
   "execution_count": 11,
   "metadata": {},
   "outputs": [
    {
     "data": {
      "text/html": [
       "<div>\n",
       "<style scoped>\n",
       "    .dataframe tbody tr th:only-of-type {\n",
       "        vertical-align: middle;\n",
       "    }\n",
       "\n",
       "    .dataframe tbody tr th {\n",
       "        vertical-align: top;\n",
       "    }\n",
       "\n",
       "    .dataframe thead th {\n",
       "        text-align: right;\n",
       "    }\n",
       "</style>\n",
       "<table border=\"1\" class=\"dataframe\">\n",
       "  <thead>\n",
       "    <tr style=\"text-align: right;\">\n",
       "      <th></th>\n",
       "      <th>geometry</th>\n",
       "    </tr>\n",
       "  </thead>\n",
       "  <tbody>\n",
       "    <tr>\n",
       "      <th>0</th>\n",
       "      <td>POLYGON ((-122.70833 42.00000, -122.70833 41.9...</td>\n",
       "    </tr>\n",
       "    <tr>\n",
       "      <th>1</th>\n",
       "      <td>POLYGON ((-122.29167 42.00000, -122.29167 41.9...</td>\n",
       "    </tr>\n",
       "    <tr>\n",
       "      <th>2</th>\n",
       "      <td>POLYGON ((-123.41667 41.95833, -123.41667 41.8...</td>\n",
       "    </tr>\n",
       "    <tr>\n",
       "      <th>3</th>\n",
       "      <td>POLYGON ((-123.37500 41.75000, -123.37500 41.6...</td>\n",
       "    </tr>\n",
       "    <tr>\n",
       "      <th>4</th>\n",
       "      <td>POLYGON ((-123.20833 42.00000, -123.08333 42.0...</td>\n",
       "    </tr>\n",
       "    <tr>\n",
       "      <th>...</th>\n",
       "      <td>...</td>\n",
       "    </tr>\n",
       "    <tr>\n",
       "      <th>114</th>\n",
       "      <td>POLYGON ((-116.29167 33.12500, -116.29167 33.0...</td>\n",
       "    </tr>\n",
       "    <tr>\n",
       "      <th>115</th>\n",
       "      <td>POLYGON ((-116.45833 33.08333, -116.45833 32.9...</td>\n",
       "    </tr>\n",
       "    <tr>\n",
       "      <th>116</th>\n",
       "      <td>POLYGON ((-115.29167 33.91667, -115.16667 33.9...</td>\n",
       "    </tr>\n",
       "    <tr>\n",
       "      <th>117</th>\n",
       "      <td>POLYGON ((-117.16667 33.20833, -117.00000 33.2...</td>\n",
       "    </tr>\n",
       "    <tr>\n",
       "      <th>118</th>\n",
       "      <td>POLYGON ((-116.25000 32.79167, -116.25000 32.6...</td>\n",
       "    </tr>\n",
       "  </tbody>\n",
       "</table>\n",
       "<p>119 rows × 1 columns</p>\n",
       "</div>"
      ],
      "text/plain": [
       "                                              geometry\n",
       "0    POLYGON ((-122.70833 42.00000, -122.70833 41.9...\n",
       "1    POLYGON ((-122.29167 42.00000, -122.29167 41.9...\n",
       "2    POLYGON ((-123.41667 41.95833, -123.41667 41.8...\n",
       "3    POLYGON ((-123.37500 41.75000, -123.37500 41.6...\n",
       "4    POLYGON ((-123.20833 42.00000, -123.08333 42.0...\n",
       "..                                                 ...\n",
       "114  POLYGON ((-116.29167 33.12500, -116.29167 33.0...\n",
       "115  POLYGON ((-116.45833 33.08333, -116.45833 32.9...\n",
       "116  POLYGON ((-115.29167 33.91667, -115.16667 33.9...\n",
       "117  POLYGON ((-117.16667 33.20833, -117.00000 33.2...\n",
       "118  POLYGON ((-116.25000 32.79167, -116.25000 32.6...\n",
       "\n",
       "[119 rows x 1 columns]"
      ]
     },
     "execution_count": 11,
     "metadata": {},
     "output_type": "execute_result"
    }
   ],
   "source": [
    "# shapes_list is type generator: iterable once\n",
    "thick_shps = shapes(source = thick_regions, \n",
    "                     mask= thick_regions,   # include this so regions with value 0 are not inclduded\n",
    "                     connectivity = 8,\n",
    "                     transform = temp8.transform)\n",
    "\n",
    "aff_data = shapes_2_GeoDataFrame(thick_shps , temp8.crs)\n",
    "aff_data"
   ]
  },
  {
   "cell_type": "code",
   "execution_count": 15,
   "metadata": {},
   "outputs": [],
   "source": [
    "outfp = \"/home/galaz-garcia/python/hotter_regions.shp\"\n",
    "aff_data.to_file(outfp)"
   ]
  },
  {
   "cell_type": "code",
   "execution_count": 14,
   "metadata": {},
   "outputs": [
    {
     "data": {
      "text/plain": [
       "'/home/galaz-garcia/python'"
      ]
     },
     "execution_count": 14,
     "metadata": {},
     "output_type": "execute_result"
    }
   ],
   "source": []
  },
  {
   "cell_type": "code",
   "execution_count": null,
   "metadata": {},
   "outputs": [],
   "source": []
  }
 ],
 "metadata": {
  "kernelspec": {
   "display_name": "Python 3",
   "language": "python",
   "name": "python3"
  },
  "language_info": {
   "codemirror_mode": {
    "name": "ipython",
    "version": 3
   },
   "file_extension": ".py",
   "mimetype": "text/x-python",
   "name": "python",
   "nbconvert_exporter": "python",
   "pygments_lexer": "ipython3",
   "version": "3.8.10"
  }
 },
 "nbformat": 4,
 "nbformat_minor": 4
}
