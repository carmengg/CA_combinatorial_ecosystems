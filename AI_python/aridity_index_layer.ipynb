{
 "cells": [
  {
   "cell_type": "markdown",
   "id": "98ea52c5-edf3-4cf5-9d98-ffcd896e907d",
   "metadata": {},
   "source": [
    "### Documentation for Google Earth Engine\n",
    "\n",
    "Coding best practices\n",
    "https://developers.google.com/earth-engine/guides/best_practices\n",
    "\n",
    "API reference\n",
    "https://developers.google.com/earth-engine/apidocs/\n",
    "\n",
    "geemao library\n",
    "https://geemap.org/foliumap/?h=addlayer#geemap.foliumap\n",
    "\n",
    "geemap notebook examples\n",
    "https://github.com/giswqs/geemap/tree/master/examples\n",
    "\n",
    "\n",
    "## Precipitation + Evaporation layers -- NLDAS\n",
    "\n",
    "Land Data Assimilation System (LDAS) combines multiple sources of observations (such as precipitation gauge data, satellite data, and radar precipitation measurements) to produce estimates of climatological properties at or near the Earth''s surface.\n",
    "\n",
    "**This dataset is the primary (default) forcing file (File A) for Phase 2 of the North American Land Data Assimilation System (NLDAS-2). The data are in 1/8th-degree grid spacing; the temporal resolution is hourly.**\n",
    "\n",
    "\n"
   ]
  },
  {
   "cell_type": "code",
   "execution_count": 1,
   "id": "04b69d4f-a613-4bdc-bc82-5f60157cd45e",
   "metadata": {},
   "outputs": [
    {
     "data": {
      "text/html": [
       "<p>To authorize access needed by Earth Engine, open the following\n",
       "        URL in a web browser and follow the instructions:</p>\n",
       "        <p><a href=https://accounts.google.com/o/oauth2/auth?client_id=517222506229-vsmmajv00ul0bs7p89v5m89qs8eb9359.apps.googleusercontent.com&scope=https%3A%2F%2Fwww.googleapis.com%2Fauth%2Fearthengine+https%3A%2F%2Fwww.googleapis.com%2Fauth%2Fdevstorage.full_control&redirect_uri=urn%3Aietf%3Awg%3Aoauth%3A2.0%3Aoob&response_type=code&code_challenge=6RBqKhp7P6K1y_oC_QK9QjgU1o5MXMBjdLr73jC4bOY&code_challenge_method=S256>https://accounts.google.com/o/oauth2/auth?client_id=517222506229-vsmmajv00ul0bs7p89v5m89qs8eb9359.apps.googleusercontent.com&scope=https%3A%2F%2Fwww.googleapis.com%2Fauth%2Fearthengine+https%3A%2F%2Fwww.googleapis.com%2Fauth%2Fdevstorage.full_control&redirect_uri=urn%3Aietf%3Awg%3Aoauth%3A2.0%3Aoob&response_type=code&code_challenge=6RBqKhp7P6K1y_oC_QK9QjgU1o5MXMBjdLr73jC4bOY&code_challenge_method=S256</a></p>\n",
       "        <p>The authorization workflow will generate a code, which you\n",
       "        should paste in the box below</p>\n",
       "        "
      ],
      "text/plain": [
       "<IPython.core.display.HTML object>"
      ]
     },
     "metadata": {},
     "output_type": "display_data"
    },
    {
     "name": "stdin",
     "output_type": "stream",
     "text": [
      "Enter verification code:  4/1AX4XfWhPhW6HVT682AjUudBGCr6LLdRuiazi-jHnw_CwvBoIG7qoH1l8oVM\n"
     ]
    },
    {
     "name": "stdout",
     "output_type": "stream",
     "text": [
      "\n",
      "Successfully saved authorization token.\n"
     ]
    }
   ],
   "source": [
    "import ee\n",
    "\n",
    "# Trigger the authentication flow.\n",
    "ee.Authenticate()\n",
    "\n",
    "# Initialize the library.\n",
    "ee.Initialize()"
   ]
  },
  {
   "cell_type": "code",
   "execution_count": 6,
   "id": "7e243ef9-a682-4280-abb7-7eb28b889b4f",
   "metadata": {},
   "outputs": [
    {
     "name": "stdout",
     "output_type": "stream",
     "text": [
      "2000-01-01 2010-01-01\n"
     ]
    }
   ],
   "source": [
    "i_year = 2010\n",
    "years_back = 10\n",
    "\n",
    "# --- Does not use data from i_year --\n",
    "# Initial date of interest (inclusive)\n",
    "i_date = str(i_year - years_back)  + '-01-01' \n",
    "# Final date of interest (exclusive)\n",
    "f_date = str(i_year) + '-01-01'\n",
    "\n",
    "#print(i_date, f_date)"
   ]
  },
  {
   "cell_type": "code",
   "execution_count": 28,
   "id": "099e5436-19e1-47e6-8639-3fdfa4032e15",
   "metadata": {},
   "outputs": [
    {
     "name": "stdout",
     "output_type": "stream",
     "text": [
      "evaporation filtered collection size: 87672\n",
      "precipitation filtered collection size: 87672\n"
     ]
    }
   ],
   "source": [
    "nldas = ee.ImageCollection('NASA/NLDAS/FORA0125_H002').filterDate(i_date,f_date)\n",
    "\n",
    "\n",
    "evap = nldas.select('potential_evaporation')\n",
    "print('evaporation filtered collection size:', evap.size().getInfo())\n",
    "\n",
    "prec = nldas.select('total_precipitation')\n",
    "print('precipitation filtered collection size:', prec.size().getInfo())"
   ]
  },
  {
   "cell_type": "code",
   "execution_count": 32,
   "id": "783aab9d-43bc-490f-af26-585e26c8e838",
   "metadata": {},
   "outputs": [],
   "source": [
    "aridity_index = prec.sum().divide( evap.sum().multiply(10))"
   ]
  },
  {
   "cell_type": "code",
   "execution_count": 39,
   "id": "c859b277-4a4b-467d-bfe8-44c7fcdc4aec",
   "metadata": {},
   "outputs": [],
   "source": [
    "ca_bbox = ee.Geometry.Polygon([[[-124.409591,32], \n",
    "                               [-114.131211,32], \n",
    "                               [-114.131211,42.01], \n",
    "                               [-124.409591,42.01]]])\n",
    "\n",
    "ca_aridity_index = aridity_index.clip(ca_bbox)"
   ]
  },
  {
   "cell_type": "code",
   "execution_count": 46,
   "id": "52f843b6-c588-4bfd-abc4-4a150cd08ab6",
   "metadata": {},
   "outputs": [],
   "source": [
    "task = ee.batch.Export.image.toDrive(ca_aridity_index,\n",
    "                     description= str(i_year)+'aridity_index'\n",
    "                     )\n",
    "\n",
    "task.start()"
   ]
  },
  {
   "cell_type": "code",
   "execution_count": 41,
   "id": "058880ac-c958-4d42-a4ad-473c0868fae3",
   "metadata": {},
   "outputs": [
    {
     "data": {
      "text/plain": [
       "{'type': 'Projection', 'crs': 'EPSG:4326', 'transform': [1, 0, 0, 0, 1, 0]}"
      ]
     },
     "execution_count": 41,
     "metadata": {},
     "output_type": "execute_result"
    }
   ],
   "source": [
    "ca_aridity_index.projection().getInfo()"
   ]
  },
  {
   "cell_type": "code",
   "execution_count": null,
   "id": "ca2b3ab7-8a76-43cf-a17a-bb437ea2e556",
   "metadata": {},
   "outputs": [],
   "source": [
    "max = ca_aridity_index.reduceRegion(reducer = ee.Reducer.max(),\n",
    "                                 geometry = ca_bbox,\n",
    "                                 scale=13915)\n",
    "max.getInfo()"
   ]
  },
  {
   "cell_type": "code",
   "execution_count": 34,
   "id": "d2df1ed9-cc9f-4824-9df1-0aec05815391",
   "metadata": {},
   "outputs": [
    {
     "data": {
      "text/plain": [
       "{'type': 'Projection', 'crs': 'EPSG:4326', 'transform': [1, 0, 0, 0, 1, 0]}"
      ]
     },
     "execution_count": 34,
     "metadata": {},
     "output_type": "execute_result"
    }
   ],
   "source": [
    "aridity_index.projection().getInfo()\n",
    "#evap[1].projection().getInfo()"
   ]
  },
  {
   "cell_type": "code",
   "execution_count": null,
   "id": "3feb5e98-c63b-426d-a041-95cb0dbcf672",
   "metadata": {},
   "outputs": [],
   "source": [
    "ca_total_evap = evap_nldas.sum().clip(ca_bbox)\n",
    "ca_total_prec = prec_nldas.sum().clip(ca_bbox)\n",
    "\n",
    "total_evap = evap_nldas.sum()\n",
    "total_prec = prec_nldas.sum()\n",
    "\n",
    "\n",
    "\n",
    "#ai = total_prec/total_evap\n",
    "\n"
   ]
  },
  {
   "cell_type": "code",
   "execution_count": null,
   "id": "8cf69e2f-1a2e-4472-b255-19d30bd88667",
   "metadata": {},
   "outputs": [],
   "source": [
    "import geemap\n",
    "\n",
    "nldas_map = geemap.Map()\n",
    "\n",
    "vis_evap = { 'min':0, 'max':3*8760, 'palette': purples}\n",
    "vis_prec = { 'min':0, 'max':125*8760, 'palette': purples}\n",
    "\n",
    "nldas_map.addLayer(total_evap,vis_evap, \"total evaporation\")\n",
    "nldas_map.addLayer(total_prec,vis_prec, \"total precipitation\")"
   ]
  }
 ],
 "metadata": {
  "kernelspec": {
   "display_name": "Python 3 (ipykernel)",
   "language": "python",
   "name": "python3"
  },
  "language_info": {
   "codemirror_mode": {
    "name": "ipython",
    "version": 3
   },
   "file_extension": ".py",
   "mimetype": "text/x-python",
   "name": "python",
   "nbconvert_exporter": "python",
   "pygments_lexer": "ipython3",
   "version": "3.9.7"
  }
 },
 "nbformat": 4,
 "nbformat_minor": 5
}
