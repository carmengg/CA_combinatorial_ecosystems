{
 "cells": [
  {
   "cell_type": "code",
   "execution_count": 1,
   "id": "59ac07c7-119a-472b-a0a3-639be6fa9fa2",
   "metadata": {},
   "outputs": [
    {
     "data": {
      "text/html": [
       "<p>To authorize access needed by Earth Engine, open the following\n",
       "        URL in a web browser and follow the instructions:</p>\n",
       "        <p><a href=https://accounts.google.com/o/oauth2/auth?client_id=517222506229-vsmmajv00ul0bs7p89v5m89qs8eb9359.apps.googleusercontent.com&scope=https%3A%2F%2Fwww.googleapis.com%2Fauth%2Fearthengine+https%3A%2F%2Fwww.googleapis.com%2Fauth%2Fdevstorage.full_control&redirect_uri=urn%3Aietf%3Awg%3Aoauth%3A2.0%3Aoob&response_type=code&code_challenge=1oRSxi6HuwoBRfYk9tACXVGrHx4iyp8FLBDLvrPEeWg&code_challenge_method=S256>https://accounts.google.com/o/oauth2/auth?client_id=517222506229-vsmmajv00ul0bs7p89v5m89qs8eb9359.apps.googleusercontent.com&scope=https%3A%2F%2Fwww.googleapis.com%2Fauth%2Fearthengine+https%3A%2F%2Fwww.googleapis.com%2Fauth%2Fdevstorage.full_control&redirect_uri=urn%3Aietf%3Awg%3Aoauth%3A2.0%3Aoob&response_type=code&code_challenge=1oRSxi6HuwoBRfYk9tACXVGrHx4iyp8FLBDLvrPEeWg&code_challenge_method=S256</a></p>\n",
       "        <p>The authorization workflow will generate a code, which you\n",
       "        should paste in the box below</p>\n",
       "        "
      ],
      "text/plain": [
       "<IPython.core.display.HTML object>"
      ]
     },
     "metadata": {},
     "output_type": "display_data"
    },
    {
     "name": "stdin",
     "output_type": "stream",
     "text": [
      "Enter verification code:  4/1AX4XfWjTxOPbeWaozL0F_4qOGt-YCq-W6upmcxahDUBP_r-gX7gi6OPdNlg\n"
     ]
    },
    {
     "name": "stdout",
     "output_type": "stream",
     "text": [
      "\n",
      "Successfully saved authorization token.\n"
     ]
    }
   ],
   "source": [
    "import ee\n",
    "\n",
    "# Trigger the authentication flow.\n",
    "ee.Authenticate()\n",
    "\n",
    "# Initialize the library.\n",
    "ee.Initialize()"
   ]
  },
  {
   "cell_type": "code",
   "execution_count": 2,
   "id": "f483ffd6-d9b9-47fc-a68c-c322254f5a52",
   "metadata": {},
   "outputs": [],
   "source": [
    "def string_date(month,year):\n",
    "    if month == 12:\n",
    "        return (str(year)+'-12-01',str(year+1)+'-01-01')    \n",
    "    if month == 9:\n",
    "        return (str(year)+'-09-01',str(year)+'-10-01')\n",
    "    if month>9:\n",
    "        return (str(year)+'-'+str(month)+'-01',str(year)+'-'+str(month+1)+'-01')\n",
    "    return (str(year)+'-0'+str(month)+'-01',str(year)+'-0'+str(month+1)+'-01')\n",
    "    \n",
    "#for i in range(1,13):\n",
    "#    print(string_date(i,2000)[0])"
   ]
  },
  {
   "cell_type": "code",
   "execution_count": 3,
   "id": "a5fca968-aa37-4ec1-99fe-9d103338abac",
   "metadata": {},
   "outputs": [],
   "source": [
    "def clip_month_ai(month,year,evap,prec,feature):\n",
    "    date_param = string_date(month,year)\n",
    "    m_evap = evap.filterDate(date_param[0],date_param[1])\n",
    "    m_prec = prec.filterDate(date_param[0],date_param[1])\n",
    "    \n",
    "    return (m_prec.sum().divide(m_evap.sum())).clipToCollection(feature)    "
   ]
  },
  {
   "cell_type": "code",
   "execution_count": 4,
   "id": "9e6c2d4f-1dfc-41d9-908c-ff1e1fdf80e2",
   "metadata": {},
   "outputs": [],
   "source": [
    "def ca_ai(i_year,years_back):\n",
    "    \n",
    "    i_date = str(i_year - years_back)  + '-01-01' \n",
    "    f_date = str(i_year) + '-01-01'\n",
    "    \n",
    "    nldas = ee.ImageCollection('NASA/NLDAS/FORA0125_H002').filterDate(i_date,f_date)\n",
    "    evap = nldas.select('potential_evaporation')\n",
    "    prec = nldas.select('total_precipitation')\n",
    "    \n",
    "    ca = ee.FeatureCollection('TIGER/2016/States').filter(ee.Filter.eq('NAME', 'California'))\n",
    "    months_ai = []\n",
    "    for j in range(i_year-years_back,i_year):\n",
    "        for i in range(1,13):\n",
    "            months_ai.append(clip_month_ai(i,j,evap,prec,ca))\n",
    "    return ee.ImageCollection(months_ai).mean()\n"
   ]
  },
  {
   "cell_type": "code",
   "execution_count": 9,
   "id": "dba2b1a0-9e02-4ef8-a5dc-13986ab460ca",
   "metadata": {},
   "outputs": [],
   "source": [
    "ai_2001 = ca_ai(2001,20)\n",
    "ai_2008 = ca_ai(2008,20)\n",
    "ai_2019 = ca_ai(2019,20)"
   ]
  },
  {
   "cell_type": "code",
   "execution_count": null,
   "id": "3f735916-9bd9-457d-9932-fa94de666017",
   "metadata": {},
   "outputs": [],
   "source": [
    "import geemap\n",
    "\n",
    "Map2001 = geemap.Map()\n",
    "Map2001.addLayer(ai_2001)\n",
    "Map2001\n",
    "\n",
    "Map2008 = geemap.Map()\n",
    "Map2008.addLayer(ai_2008)\n",
    "Map2008\n",
    "\n",
    "Map2019 = geemap.Map()\n",
    "Map2019.addLayer(ai_2019)\n",
    "Map2019"
   ]
  },
  {
   "cell_type": "code",
   "execution_count": 10,
   "id": "2b2b59f9-a4e8-4c49-9463-73f8a9b40d06",
   "metadata": {},
   "outputs": [],
   "source": [
    "ca = ee.FeatureCollection('TIGER/2016/States').filter(ee.Filter.eq('NAME', 'California'))\n",
    "\n",
    "task2001 = ee.batch.Export.image.toDrive(image = ai_2001,\n",
    "                                     description = 'ee_ai_2001',\n",
    "                                     scale = 13915,\n",
    "                                     region= ca.geometry())\n",
    "\n",
    "task2001.start()\n",
    "# ------------------------------------------------------------------------\n",
    "task2008 = ee.batch.Export.image.toDrive(image = ai_2008,\n",
    "                                     description = 'ee_ai_2008',\n",
    "                                     scale = 13915,\n",
    "                                     region= ca.geometry())\n",
    "\n",
    "task2008.start()\n",
    "# ------------------------------------------------------------------------\n",
    "task2019 = ee.batch.Export.image.toDrive(image = ai_2019,\n",
    "                                     description = 'ee_ai_2019',\n",
    "                                     scale = 13915,\n",
    "                                     region= ca.geometry())\n",
    "\n",
    "task2019.start()"
   ]
  },
  {
   "cell_type": "code",
   "execution_count": null,
   "id": "dfa54c36-ed3b-44af-bf77-54c75787c013",
   "metadata": {},
   "outputs": [],
   "source": []
  },
  {
   "cell_type": "code",
   "execution_count": null,
   "id": "08542cd2-dc2f-4bfa-8860-a4096b764cf4",
   "metadata": {},
   "outputs": [],
   "source": []
  }
 ],
 "metadata": {
  "kernelspec": {
   "display_name": "Python 3 (ipykernel)",
   "language": "python",
   "name": "python3"
  },
  "language_info": {
   "codemirror_mode": {
    "name": "ipython",
    "version": 3
   },
   "file_extension": ".py",
   "mimetype": "text/x-python",
   "name": "python",
   "nbconvert_exporter": "python",
   "pygments_lexer": "ipython3",
   "version": "3.9.7"
  }
 },
 "nbformat": 4,
 "nbformat_minor": 5
}
